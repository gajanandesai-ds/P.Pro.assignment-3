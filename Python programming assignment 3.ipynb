{
 "cells": [
  {
   "cell_type": "raw",
   "id": "4aefbee3",
   "metadata": {},
   "source": [
    "1. Write a Python Program to Check if a Number is Positive, Negative or Zero?"
   ]
  },
  {
   "cell_type": "code",
   "execution_count": 3,
   "id": "089433b3",
   "metadata": {},
   "outputs": [
    {
     "name": "stdout",
     "output_type": "stream",
     "text": [
      "Enter a number:3990\n",
      "3990 is a positive number\n"
     ]
    }
   ],
   "source": [
    "def checkNumber(num):\n",
    "    if num > 0:\n",
    "        print('{} is a positive number'.format(num))\n",
    "        \n",
    "    elif num < 0:\n",
    "        print('{} is a negative number'.format(num))\n",
    "        \n",
    "    else:\n",
    "        print(\"number is zeo\")\n",
    "        \n",
    "num = int(input(\"Enter a number:\"))\n",
    "checkNumber(num)"
   ]
  },
  {
   "cell_type": "code",
   "execution_count": null,
   "id": "b2492a54",
   "metadata": {},
   "outputs": [],
   "source": []
  },
  {
   "cell_type": "code",
   "execution_count": null,
   "id": "041d8ccf",
   "metadata": {},
   "outputs": [],
   "source": []
  },
  {
   "cell_type": "raw",
   "id": "c7c5e60b",
   "metadata": {},
   "source": [
    "2. Write a Python Program to Check if a Number is Odd or Even?"
   ]
  },
  {
   "cell_type": "code",
   "execution_count": 5,
   "id": "7dd42876",
   "metadata": {},
   "outputs": [
    {
     "name": "stdout",
     "output_type": "stream",
     "text": [
      "enter a number:33333\n",
      "33333 is a odd number\n"
     ]
    }
   ],
   "source": [
    "def checknumber (num):\n",
    "    if num%2 == 0:\n",
    "        print('{} id a even number'.format (num))\n",
    "    else:\n",
    "        print('{} is a odd number'.format(num))\n",
    "        \n",
    "num = int (input(\"enter a number:\"))\n",
    "checknumber(num)"
   ]
  },
  {
   "cell_type": "code",
   "execution_count": null,
   "id": "6388b514",
   "metadata": {},
   "outputs": [],
   "source": []
  },
  {
   "cell_type": "code",
   "execution_count": null,
   "id": "d0b7585c",
   "metadata": {},
   "outputs": [],
   "source": []
  },
  {
   "cell_type": "raw",
   "id": "7687163c",
   "metadata": {},
   "source": [
    "3. Write a Python Program to Check Leap Year?"
   ]
  },
  {
   "cell_type": "code",
   "execution_count": 1,
   "id": "9cd70d8a",
   "metadata": {},
   "outputs": [
    {
     "name": "stdout",
     "output_type": "stream",
     "text": [
      "enter year: 2023\n",
      "2023 is not a leap year\n"
     ]
    }
   ],
   "source": [
    "def checkyear(year):\n",
    "    if (year%4 == 0 and year % 100 != 0 or year % 365 == 0):\n",
    "        print(f'{year} is a leap year')\n",
    "        \n",
    "    else:\n",
    "        print(f'{year} is not a leap year')\n",
    "        \n",
    "year = int (input(\"enter year: \"))\n",
    "checkyear(year)"
   ]
  },
  {
   "cell_type": "code",
   "execution_count": null,
   "id": "a5ad4745",
   "metadata": {},
   "outputs": [],
   "source": []
  },
  {
   "cell_type": "code",
   "execution_count": null,
   "id": "00f2624d",
   "metadata": {},
   "outputs": [],
   "source": []
  },
  {
   "cell_type": "raw",
   "id": "d1d4c157",
   "metadata": {},
   "source": [
    "4. Write a Python Program to Check Prime Number?"
   ]
  },
  {
   "cell_type": "code",
   "execution_count": 10,
   "id": "a07e17e0",
   "metadata": {},
   "outputs": [
    {
     "name": "stdout",
     "output_type": "stream",
     "text": [
      "enter a number: 96\n",
      "96 is not a prime number\n"
     ]
    }
   ],
   "source": [
    "def isPrime(num):\n",
    "    flag = False\n",
    "    for i in range(2,num):\n",
    "        if num % i ==0:\n",
    "            flag = True\n",
    "            break\n",
    "            \n",
    "    if(not flag):\n",
    "        print(f'{num} is a prime mumber')\n",
    "        \n",
    "    else:\n",
    "        print(f'{num} is not a prime number')\n",
    "        \n",
    "number = int(input(\"enter a number: \"))\n",
    "isPrime (number)"
   ]
  },
  {
   "cell_type": "code",
   "execution_count": null,
   "id": "70ee71d9",
   "metadata": {},
   "outputs": [],
   "source": []
  },
  {
   "cell_type": "code",
   "execution_count": null,
   "id": "62c27f43",
   "metadata": {},
   "outputs": [],
   "source": []
  },
  {
   "cell_type": "raw",
   "id": "ca820fcb",
   "metadata": {},
   "source": [
    "5. Write a Python Program to Print all Prime Numbers in an Interval of 1-10000?"
   ]
  },
  {
   "cell_type": "code",
   "execution_count": 12,
   "id": "88f5336b",
   "metadata": {},
   "outputs": [
    {
     "ename": "NameError",
     "evalue": "name 'false' is not defined",
     "output_type": "error",
     "traceback": [
      "\u001b[0;31m---------------------------------------------------------------------------\u001b[0m",
      "\u001b[0;31mNameError\u001b[0m                                 Traceback (most recent call last)",
      "\u001b[0;32m<ipython-input-12-72533f00d921>\u001b[0m in \u001b[0;36m<module>\u001b[0;34m\u001b[0m\n\u001b[1;32m     13\u001b[0m             \u001b[0mprimenumberlist\u001b[0m\u001b[0;34m.\u001b[0m\u001b[0mappend\u001b[0m\u001b[0;34m(\u001b[0m\u001b[0mx\u001b[0m\u001b[0;34m)\u001b[0m\u001b[0;34m\u001b[0m\u001b[0;34m\u001b[0m\u001b[0m\n\u001b[1;32m     14\u001b[0m \u001b[0;34m\u001b[0m\u001b[0m\n\u001b[0;32m---> 15\u001b[0;31m \u001b[0mgenerateprimenumbers\u001b[0m\u001b[0;34m(\u001b[0m\u001b[0;34m)\u001b[0m\u001b[0;34m\u001b[0m\u001b[0;34m\u001b[0m\u001b[0m\n\u001b[0m\u001b[1;32m     16\u001b[0m \u001b[0mprint\u001b[0m\u001b[0;34m(\u001b[0m\u001b[0mprimenumberlist\u001b[0m\u001b[0;34m)\u001b[0m\u001b[0;34m\u001b[0m\u001b[0;34m\u001b[0m\u001b[0m\n",
      "\u001b[0;32m<ipython-input-12-72533f00d921>\u001b[0m in \u001b[0;36mgenerateprimenumbers\u001b[0;34m()\u001b[0m\n\u001b[1;32m      3\u001b[0m \u001b[0;32mdef\u001b[0m \u001b[0mgenerateprimenumbers\u001b[0m\u001b[0;34m(\u001b[0m\u001b[0;34m)\u001b[0m\u001b[0;34m:\u001b[0m\u001b[0;34m\u001b[0m\u001b[0;34m\u001b[0m\u001b[0m\n\u001b[1;32m      4\u001b[0m     \u001b[0;32mfor\u001b[0m \u001b[0mx\u001b[0m \u001b[0;32min\u001b[0m \u001b[0mrange\u001b[0m \u001b[0;34m(\u001b[0m\u001b[0;36m1\u001b[0m\u001b[0;34m,\u001b[0m\u001b[0;36m10000\u001b[0m\u001b[0;34m)\u001b[0m\u001b[0;34m:\u001b[0m\u001b[0;34m\u001b[0m\u001b[0;34m\u001b[0m\u001b[0m\n\u001b[0;32m----> 5\u001b[0;31m         \u001b[0mflag\u001b[0m \u001b[0;34m=\u001b[0m \u001b[0mfalse\u001b[0m\u001b[0;34m\u001b[0m\u001b[0;34m\u001b[0m\u001b[0m\n\u001b[0m\u001b[1;32m      6\u001b[0m \u001b[0;34m\u001b[0m\u001b[0m\n\u001b[1;32m      7\u001b[0m         \u001b[0;32mfor\u001b[0m \u001b[0my\u001b[0m \u001b[0;32min\u001b[0m \u001b[0mrange\u001b[0m \u001b[0;34m(\u001b[0m\u001b[0;36m2\u001b[0m\u001b[0;34m,\u001b[0m \u001b[0mx\u001b[0m\u001b[0;34m)\u001b[0m\u001b[0;34m:\u001b[0m\u001b[0;34m\u001b[0m\u001b[0;34m\u001b[0m\u001b[0m\n",
      "\u001b[0;31mNameError\u001b[0m: name 'false' is not defined"
     ]
    }
   ],
   "source": [
    "primenumberlist = []\n",
    "\n",
    "def generateprimenumbers():\n",
    "    for x in range (1,10000):\n",
    "        flag = false\n",
    "        \n",
    "        for y in range (2, x):\n",
    "            if (x % y ==0):\n",
    "                flag = True\n",
    "                break\n",
    "                \n",
    "        if(not flag):\n",
    "            primenumberlist.append(x)\n",
    "            \n",
    "generateprimenumbers()\n",
    "print(primenumberlist)"
   ]
  },
  {
   "cell_type": "code",
   "execution_count": null,
   "id": "883baaa0",
   "metadata": {},
   "outputs": [],
   "source": []
  }
 ],
 "metadata": {
  "kernelspec": {
   "display_name": "Python 3",
   "language": "python",
   "name": "python3"
  },
  "language_info": {
   "codemirror_mode": {
    "name": "ipython",
    "version": 3
   },
   "file_extension": ".py",
   "mimetype": "text/x-python",
   "name": "python",
   "nbconvert_exporter": "python",
   "pygments_lexer": "ipython3",
   "version": "3.8.8"
  }
 },
 "nbformat": 4,
 "nbformat_minor": 5
}
